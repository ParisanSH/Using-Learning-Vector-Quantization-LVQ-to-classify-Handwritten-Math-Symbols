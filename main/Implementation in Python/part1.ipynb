{
 "cells": [
  {
   "cell_type": "code",
   "execution_count": null,
   "id": "differential-advice",
   "metadata": {
    "scrolled": true
   },
   "outputs": [],
   "source": [
    "# pip install scikit-image"
   ]
  },
  {
   "cell_type": "code",
   "execution_count": 1,
   "id": "monthly-russia",
   "metadata": {},
   "outputs": [],
   "source": [
    "%config Completer.use_jedi = False"
   ]
  },
  {
   "cell_type": "code",
   "execution_count": null,
   "id": "harmful-campus",
   "metadata": {},
   "outputs": [],
   "source": []
  },
  {
   "cell_type": "code",
   "execution_count": 2,
   "id": "unlikely-parallel",
   "metadata": {},
   "outputs": [],
   "source": [
    "import os\n",
    "import numpy as np\n",
    "import cv2 as cv\n",
    "import matplotlib.pyplot as plt\n",
    "from sklearn.model_selection import train_test_split\n",
    "from sklearn.metrics import accuracy_score\n",
    "from sklearn.metrics import recall_score\n",
    "from sklearn.metrics import precision_score\n",
    "import sys\n",
    "\n",
    "from sklearn.utils import shuffle"
   ]
  },
  {
   "cell_type": "code",
   "execution_count": 3,
   "id": "green-medline",
   "metadata": {},
   "outputs": [],
   "source": [
    "from skimage.util import random_noise\n",
    "import copy"
   ]
  },
  {
   "cell_type": "code",
   "execution_count": null,
   "id": "classified-census",
   "metadata": {},
   "outputs": [],
   "source": []
  },
  {
   "cell_type": "code",
   "execution_count": 4,
   "id": "mexican-shareware",
   "metadata": {},
   "outputs": [],
   "source": [
    "class Dataset():\n",
    "    def read_dataset(self):\n",
    "        directory = \"Dataset/\"\n",
    "        train_data = []\n",
    "        test_data = []\n",
    "        train_label = [] \n",
    "        test_label = []\n",
    "\n",
    "        for i in range(0,10):\n",
    "            data_dir = directory + str(i) + '/'\n",
    "\n",
    "            # bipolar one hot lable\n",
    "            lable = -1 * np.ones((100, 19), dtype=int)     \n",
    "            lable[:, i] = 1\n",
    "\n",
    "            images = self.read_image(data_dir)\n",
    "\n",
    "            X_train, X_test, y_train, y_test = train_test_split(images, lable, test_size=0.20, random_state=42)\n",
    "\n",
    "            train_data.append(X_train)\n",
    "            test_data.append(X_test)\n",
    "            train_label.append(y_train)\n",
    "            test_label.append(y_test)\n",
    "\n",
    "        maths = ['add', 'dec', 'div', 'eq', 'mul', 'sub', 'x', 'y', 'z']\n",
    "        for i, op in enumerate(maths):\n",
    "            data_dir = directory + op + '/'\n",
    "\n",
    "            # bipolar one hot lable\n",
    "            lable = -1 * np.ones((100, 19), dtype=int)     \n",
    "            lable[:, i+10] = 1\n",
    "\n",
    "            images = self.read_image(data_dir)\n",
    "\n",
    "            X_train, X_test, y_train, y_test = train_test_split(images, lable, test_size=0.20, random_state=42)\n",
    "\n",
    "            train_data.append(X_train)\n",
    "            test_data.append(X_test)\n",
    "            train_label.append(y_train)\n",
    "            test_label.append(y_test)\n",
    "\n",
    "        train_data = np.concatenate(train_data, axis=0)\n",
    "        test_data = np.concatenate(test_data, axis=0)\n",
    "        train_label = np.concatenate(train_label, axis=0)\n",
    "        test_label = np.concatenate(test_label, axis=0)\n",
    "\n",
    "        self.train_data = train_data\n",
    "        self.test_data = test_data\n",
    "        self.train_label = train_label\n",
    "        self.test_label = test_label\n",
    "\n",
    "        X_train, y_train = shuffle(self.train_data, self.train_label, random_state=0)\n",
    "        self.train_data_shuffle = X_train\n",
    "        self.train_label_shuffle = y_train\n",
    "        \n",
    "        \n",
    "        X_test, y_test = shuffle(self.test_data, self.test_label, random_state=0)\n",
    "        self.test_data_shuffle = X_test\n",
    "        self.test_label_shuffle = y_test\n",
    "        \n",
    "    def read_image(self, directory):\n",
    "        path = os.path.join(directory)\n",
    "        images = []\n",
    "        img_size = 100\n",
    "        for img in os.listdir(path):\n",
    "            img_array = cv.imread(os.path.join(path,img), cv.IMREAD_GRAYSCALE)\n",
    "            if img_array is not None:\n",
    "                new_image = cv.resize(img_array, (img_size, img_size))\n",
    "                images.append(new_image / 255)\n",
    "        \n",
    "        images = np.array(images)    \n",
    "        flatten_img = images.reshape(100,(img_size*img_size))\n",
    "        return flatten_img\n"
   ]
  },
  {
   "cell_type": "code",
   "execution_count": 5,
   "id": "grand-karen",
   "metadata": {},
   "outputs": [],
   "source": [
    "class SingleContinuousPerceptronNN():\n",
    "    def __init__(self, alpha = 1e-6):\n",
    "#         self.weights = np.random.uniform(0, 1e-5, size=(19, 100*100))\n",
    "#         self.bias = np.random.uniform(0, 1e-5, size=(19,1))\n",
    "\n",
    "        self.weights = np.zeros((19, 100*100))\n",
    "        self.bias = np.zeros((19,1))\n",
    "        self.alpha = alpha\n",
    "     \n",
    "    \n",
    "    def bipolar_sigmoid(self, y_in):\n",
    "        e = np.exp(-1 * y_in)\n",
    "        return (1 - e)/ (1 + e)\n",
    "#         return (2/ 1+ np.exp(-1 * y_in)) - 1\n",
    "        \n",
    "        \n",
    "    def train(self, X, y_, num_classes = 19, max_epoch = 200, tolerance= 0):\n",
    "        self.num_classes = num_classes\n",
    "        \n",
    "        epoch = 0\n",
    "        flag = True\n",
    "        while flag:\n",
    "            print('epoch', epoch)\n",
    "#             max_weight_change = 0\n",
    "            iter = 0\n",
    "            for f_img, label_ in zip(X, y_):\n",
    "                y = np.zeros(num_classes)   # output neoron\n",
    "                \n",
    "                image = f_img.reshape(1, -1)\n",
    "                label = label_.reshape(self.num_classes, 1)\n",
    "                label = label.astype(float)\n",
    "                \n",
    "                \n",
    "                y_in = self.bias + self.weights @ (image.T)\n",
    "                y = self.bipolar_sigmoid(y_in)\n",
    "                \n",
    "                # update weights and bias\n",
    "                delta = self.alpha * (label - y) * (1 - y*y)  # (19,)\n",
    "                self.bias += delta\n",
    "\n",
    "#                 max_delta = np.max(delta)\n",
    "#                 if abs(max_delta) > max_weight_change:\n",
    "#                     max_weight_change = abs(max_delta)\n",
    "\n",
    "                deltaW = delta * image\n",
    "                self.weights += deltaW\n",
    "\n",
    "                iter += 1\n",
    "#                     for i in range(num_classes):\n",
    "#                         self.weights[i] += delta[i] * f_img\n",
    "                        \n",
    "#                         max_delta = np.max(delta[i] * f_img)\n",
    "#                         if abs(max_delta) > max_weight_change:\n",
    "#                             max_weight_change = abs(max_delta)\n",
    "                    \n",
    "#             if max_weight_change > tolerance:\n",
    "            if epoch < max_epoch:\n",
    "                epoch += 1\n",
    "                flag = True\n",
    "            else:\n",
    "                flag = False\n",
    "            \n",
    "        return self.weights, self.bias\n",
    "    \n",
    "    \n",
    "    def predict(self, test_img):\n",
    "        y = np.zeros(self.num_classes)   # output neoron\n",
    "         \n",
    "        image = test_img.reshape(1, -1)\n",
    "        y_in = self.bias + self.weights @ (image.T)\n",
    "        y = self.bipolar_sigmoid(y_in)\n",
    "\n",
    "        index = np.argmax(y)\n",
    "        y = -1* np.ones(self.num_classes, dtype=int)\n",
    "        y[index] = 1\n",
    "        return y\n",
    "    \n",
    "    \n",
    "    def test(self, X, y_):\n",
    "        y_pred = []\n",
    "        y_true = []\n",
    "        for f_img, label in zip(X, y_):\n",
    "            y = self.predict(f_img)\n",
    "            \n",
    "            class_predict = np.argmax(y)\n",
    "            y_pred.append(class_predict)\n",
    "            \n",
    "            class_true = np.argmax(label)\n",
    "            y_true.append(class_true)\n",
    "            \n",
    "        self.y_true = y_true\n",
    "        self.y_pred = y_pred\n",
    "        \n",
    "        print('accuracy: ',accuracy_score(self.y_true, self.y_pred)* 100)\n",
    "        print('\\n')\n",
    "        print('precision: ',precision_score(self.y_true, self.y_pred, average=None, zero_division = 0) * 100)\n",
    "        print('***')\n",
    "        print('precision: ',precision_score(self.y_true, self.y_pred, average='macro', zero_division = 0) * 100)\n",
    "        print('\\n')\n",
    "        print('recall: ', recall_score(self.y_true, self.y_pred, average=None) * 100)\n",
    "        print('***')\n",
    "        print('recall: ', recall_score(self.y_true, self.y_pred, average='macro') * 100)\n",
    "        \n",
    "        return self.y_true, self.y_pred\n",
    "    \n",
    "        "
   ]
  },
  {
   "cell_type": "code",
   "execution_count": null,
   "id": "faced-lodge",
   "metadata": {},
   "outputs": [],
   "source": []
  },
  {
   "cell_type": "code",
   "execution_count": 6,
   "id": "lasting-pathology",
   "metadata": {},
   "outputs": [],
   "source": [
    "dataset = Dataset()\n",
    "dataset.read_dataset()"
   ]
  },
  {
   "cell_type": "code",
   "execution_count": 7,
   "id": "heard-palmer",
   "metadata": {},
   "outputs": [
    {
     "data": {
      "text/plain": [
       "(1520, 10000)"
      ]
     },
     "execution_count": 7,
     "metadata": {},
     "output_type": "execute_result"
    }
   ],
   "source": [
    "dataset.train_data_shuffle.shape"
   ]
  },
  {
   "cell_type": "code",
   "execution_count": null,
   "id": "touched-valuation",
   "metadata": {},
   "outputs": [],
   "source": []
  },
  {
   "cell_type": "code",
   "execution_count": 8,
   "id": "prepared-identity",
   "metadata": {
    "scrolled": true
   },
   "outputs": [
    {
     "name": "stdout",
     "output_type": "stream",
     "text": [
      "epoch 0\n",
      "epoch 1\n",
      "epoch 2\n",
      "epoch 3\n",
      "epoch 4\n",
      "epoch 5\n",
      "epoch 6\n",
      "epoch 7\n",
      "epoch 8\n",
      "epoch 9\n",
      "epoch 10\n",
      "epoch 11\n",
      "epoch 12\n",
      "epoch 13\n",
      "epoch 14\n",
      "epoch 15\n",
      "epoch 16\n",
      "epoch 17\n",
      "epoch 18\n",
      "epoch 19\n",
      "epoch 20\n",
      "epoch 21\n",
      "epoch 22\n",
      "epoch 23\n",
      "epoch 24\n",
      "epoch 25\n",
      "epoch 26\n",
      "epoch 27\n",
      "epoch 28\n",
      "epoch 29\n",
      "epoch 30\n",
      "epoch 31\n",
      "epoch 32\n",
      "epoch 33\n",
      "epoch 34\n",
      "epoch 35\n",
      "epoch 36\n",
      "epoch 37\n",
      "epoch 38\n",
      "epoch 39\n",
      "epoch 40\n",
      "epoch 41\n",
      "epoch 42\n",
      "epoch 43\n",
      "epoch 44\n",
      "epoch 45\n",
      "epoch 46\n",
      "epoch 47\n",
      "epoch 48\n",
      "epoch 49\n",
      "epoch 50\n",
      "epoch 51\n",
      "epoch 52\n",
      "epoch 53\n",
      "epoch 54\n",
      "epoch 55\n",
      "epoch 56\n",
      "epoch 57\n",
      "epoch 58\n",
      "epoch 59\n",
      "epoch 60\n",
      "epoch 61\n",
      "epoch 62\n",
      "epoch 63\n",
      "epoch 64\n",
      "epoch 65\n",
      "epoch 66\n",
      "epoch 67\n",
      "epoch 68\n",
      "epoch 69\n",
      "epoch 70\n",
      "epoch 71\n",
      "epoch 72\n",
      "epoch 73\n",
      "epoch 74\n",
      "epoch 75\n",
      "epoch 76\n",
      "epoch 77\n",
      "epoch 78\n",
      "epoch 79\n",
      "epoch 80\n",
      "epoch 81\n",
      "epoch 82\n",
      "epoch 83\n",
      "epoch 84\n",
      "epoch 85\n",
      "epoch 86\n",
      "epoch 87\n",
      "epoch 88\n",
      "epoch 89\n",
      "epoch 90\n",
      "epoch 91\n",
      "epoch 92\n",
      "epoch 93\n",
      "epoch 94\n",
      "epoch 95\n",
      "epoch 96\n",
      "epoch 97\n",
      "epoch 98\n",
      "epoch 99\n",
      "epoch 100\n",
      "epoch 101\n",
      "epoch 102\n",
      "epoch 103\n",
      "epoch 104\n",
      "epoch 105\n",
      "epoch 106\n",
      "epoch 107\n",
      "epoch 108\n",
      "epoch 109\n",
      "epoch 110\n",
      "epoch 111\n",
      "epoch 112\n",
      "epoch 113\n",
      "epoch 114\n",
      "epoch 115\n",
      "epoch 116\n",
      "epoch 117\n",
      "epoch 118\n",
      "epoch 119\n",
      "epoch 120\n",
      "epoch 121\n",
      "epoch 122\n",
      "epoch 123\n",
      "epoch 124\n",
      "epoch 125\n",
      "epoch 126\n",
      "epoch 127\n",
      "epoch 128\n",
      "epoch 129\n",
      "epoch 130\n",
      "epoch 131\n",
      "epoch 132\n",
      "epoch 133\n",
      "epoch 134\n",
      "epoch 135\n",
      "epoch 136\n",
      "epoch 137\n",
      "epoch 138\n",
      "epoch 139\n",
      "epoch 140\n",
      "epoch 141\n",
      "epoch 142\n",
      "epoch 143\n",
      "epoch 144\n",
      "epoch 145\n",
      "epoch 146\n",
      "epoch 147\n",
      "epoch 148\n",
      "epoch 149\n",
      "epoch 150\n",
      "epoch 151\n",
      "epoch 152\n",
      "epoch 153\n",
      "epoch 154\n",
      "epoch 155\n",
      "epoch 156\n",
      "epoch 157\n",
      "epoch 158\n",
      "epoch 159\n",
      "epoch 160\n",
      "epoch 161\n",
      "epoch 162\n",
      "epoch 163\n",
      "epoch 164\n",
      "epoch 165\n",
      "epoch 166\n",
      "epoch 167\n",
      "epoch 168\n",
      "epoch 169\n",
      "epoch 170\n",
      "epoch 171\n",
      "epoch 172\n",
      "epoch 173\n",
      "epoch 174\n",
      "epoch 175\n",
      "epoch 176\n",
      "epoch 177\n",
      "epoch 178\n",
      "epoch 179\n",
      "epoch 180\n",
      "epoch 181\n",
      "epoch 182\n",
      "epoch 183\n",
      "epoch 184\n",
      "epoch 185\n",
      "epoch 186\n",
      "epoch 187\n",
      "epoch 188\n",
      "epoch 189\n",
      "epoch 190\n",
      "epoch 191\n",
      "epoch 192\n",
      "epoch 193\n",
      "epoch 194\n",
      "epoch 195\n",
      "epoch 196\n",
      "epoch 197\n",
      "epoch 198\n",
      "epoch 199\n",
      "epoch 200\n"
     ]
    }
   ],
   "source": [
    "model = SingleContinuousPerceptronNN(alpha= 0.0001)\n",
    "weights, bias = model.train(dataset.train_data_shuffle, dataset.train_label_shuffle, max_epoch = 200)"
   ]
  },
  {
   "cell_type": "code",
   "execution_count": 9,
   "id": "coupled-potter",
   "metadata": {},
   "outputs": [
    {
     "name": "stdout",
     "output_type": "stream",
     "text": [
      "Test\n",
      "accuracy:  40.26315789473684\n",
      "\n",
      "\n",
      "precision:  [28.57142857 50.         41.17647059 25.         58.33333333 63.63636364\n",
      " 50.         19.44444444 40.         18.42105263 78.57142857 69.56521739\n",
      " 75.         47.82608696 54.16666667 30.43478261 41.17647059  8.33333333\n",
      " 66.66666667]\n",
      "***\n",
      "precision:  45.595986630959814\n",
      "\n",
      "\n",
      "recall:  [10. 55. 35. 25. 35. 35. 20. 35. 30. 35. 55. 80. 30. 55. 65. 70. 35. 10.\n",
      " 50.]\n",
      "***\n",
      "recall:  40.263157894736835\n",
      "////////////////////////////////////////////////////////////////////////////////////////////////////\n",
      "\n",
      "\n",
      "Train\n",
      "accuracy:  73.75\n",
      "\n",
      "\n",
      "precision:  [97.87234043 68.75       78.66666667 56.25       85.48387097 77.10843373\n",
      " 90.16393443 61.8556701  82.60869565 51.2195122  98.38709677 82.41758242\n",
      " 98.24561404 70.58823529 80.48780488 53.48837209 83.58208955 58.41584158\n",
      " 89.85507246]\n",
      "***\n",
      "precision:  77.12878069809038\n",
      "\n",
      "\n",
      "recall:  [57.5  68.75 73.75 56.25 66.25 80.   68.75 75.   71.25 78.75 76.25 93.75\n",
      " 70.   75.   82.5  86.25 70.   73.75 77.5 ]\n",
      "***\n",
      "recall:  73.75\n"
     ]
    }
   ],
   "source": [
    "# alpha 0.0001\n",
    "# 200 epoch\n",
    "print('Test')\n",
    "test_y_true , test_y_pred = model.test(dataset.test_data_shuffle, dataset.test_label_shuffle)\n",
    "print(100*'/')\n",
    "print('\\n')\n",
    "print('Train')\n",
    "train_y_true , train_y_pred = model.test(dataset.train_data_shuffle, dataset.train_label_shuffle)"
   ]
  },
  {
   "cell_type": "code",
   "execution_count": null,
   "id": "backed-midnight",
   "metadata": {},
   "outputs": [],
   "source": []
  },
  {
   "cell_type": "code",
   "execution_count": null,
   "id": "shaped-depth",
   "metadata": {},
   "outputs": [],
   "source": []
  },
  {
   "cell_type": "markdown",
   "id": "union-tonight",
   "metadata": {},
   "source": [
    "## Noise"
   ]
  },
  {
   "cell_type": "code",
   "execution_count": 10,
   "id": "working-lawyer",
   "metadata": {},
   "outputs": [],
   "source": [
    "def noise_img(test_data, amount= 0.1):\n",
    "    new_test = []\n",
    "    for img in test_data:\n",
    "        temp_img = copy.deepcopy(img)\n",
    "        sp = random_noise(temp_img, mode = 's&p', amount = amount)\n",
    "        new_test.append(sp)\n",
    "        \n",
    "    return np.array(new_test)"
   ]
  },
  {
   "cell_type": "code",
   "execution_count": 11,
   "id": "extended-mercury",
   "metadata": {},
   "outputs": [
    {
     "data": {
      "text/plain": [
       "(1520, 10000)"
      ]
     },
     "execution_count": 11,
     "metadata": {},
     "output_type": "execute_result"
    }
   ],
   "source": [
    "new_train_10_noise = noise_img(dataset.train_data_shuffle, amount= 0.1)\n",
    "new_train_10_noise.shape"
   ]
  },
  {
   "cell_type": "code",
   "execution_count": 12,
   "id": "executed-horse",
   "metadata": {},
   "outputs": [
    {
     "data": {
      "text/plain": [
       "(1520, 10000)"
      ]
     },
     "execution_count": 12,
     "metadata": {},
     "output_type": "execute_result"
    }
   ],
   "source": [
    "new_train_20_noise = noise_img(dataset.train_data_shuffle, amount= 0.2)\n",
    "new_train_20_noise.shape"
   ]
  },
  {
   "cell_type": "code",
   "execution_count": 14,
   "id": "derived-thursday",
   "metadata": {},
   "outputs": [
    {
     "name": "stdout",
     "output_type": "stream",
     "text": [
      "Train with 10% noise\n",
      "accuracy:  72.89473684210527\n",
      "\n",
      "\n",
      "precision:  [ 97.77777778  63.95348837  77.14285714  53.48837209  86.20689655\n",
      "  79.48717949  91.22807018  58.25242718  88.88888889  50.79365079\n",
      " 100.          78.125       98.24561404  73.17073171  82.5\n",
      "  51.49253731  82.35294118  60.20408163  87.5       ]\n",
      "***\n",
      "precision:  76.88476391221371\n",
      "\n",
      "\n",
      "recall:  [55.   68.75 67.5  57.5  62.5  77.5  65.   75.   70.   80.   76.25 93.75\n",
      " 70.   75.   82.5  86.25 70.   73.75 78.75]\n",
      "***\n",
      "recall:  72.89473684210526\n"
     ]
    }
   ],
   "source": [
    "# alpha 0.0001\n",
    "# 200 epoch\n",
    "print('Train with 10% noise')\n",
    "test_y_true , test_y_pred = model.test(new_train_10_noise, dataset.train_label_shuffle)\n"
   ]
  },
  {
   "cell_type": "code",
   "execution_count": 15,
   "id": "danish-south",
   "metadata": {},
   "outputs": [
    {
     "name": "stdout",
     "output_type": "stream",
     "text": [
      "Train with 20% noise\n",
      "accuracy:  72.10526315789474\n",
      "\n",
      "\n",
      "precision:  [ 82.60869565  62.35294118  82.8125      53.01204819  87.5\n",
      "  78.04878049  88.52459016  59.22330097  88.52459016  50.79365079\n",
      " 100.          73.26732673  98.24561404  71.42857143  88.\n",
      "  50.          76.8115942   60.3960396   95.38461538]\n",
      "***\n",
      "precision:  76.15446626260109\n",
      "\n",
      "\n",
      "recall:  [47.5  66.25 66.25 55.   61.25 80.   67.5  76.25 67.5  80.   73.75 92.5\n",
      " 70.   75.   82.5  88.75 66.25 76.25 77.5 ]\n",
      "***\n",
      "recall:  72.10526315789473\n"
     ]
    }
   ],
   "source": [
    "# alpha 0.0001\n",
    "# 200 epoch\n",
    "print('Train with 20% noise')\n",
    "test_y_true , test_y_pred = model.test(new_train_20_noise, dataset.train_label_shuffle)\n"
   ]
  },
  {
   "cell_type": "code",
   "execution_count": null,
   "id": "cleared-judge",
   "metadata": {},
   "outputs": [],
   "source": []
  },
  {
   "cell_type": "code",
   "execution_count": null,
   "id": "massive-debut",
   "metadata": {},
   "outputs": [],
   "source": []
  },
  {
   "cell_type": "code",
   "execution_count": 16,
   "id": "headed-engineering",
   "metadata": {},
   "outputs": [
    {
     "data": {
      "text/plain": [
       "(380, 10000)"
      ]
     },
     "execution_count": 16,
     "metadata": {},
     "output_type": "execute_result"
    }
   ],
   "source": [
    "new_test_10_noise = noise_img(dataset.test_data_shuffle, amount= 0.1)\n",
    "new_test_10_noise.shape"
   ]
  },
  {
   "cell_type": "code",
   "execution_count": 17,
   "id": "looking-musical",
   "metadata": {},
   "outputs": [
    {
     "data": {
      "text/plain": [
       "(380, 10000)"
      ]
     },
     "execution_count": 17,
     "metadata": {},
     "output_type": "execute_result"
    }
   ],
   "source": [
    "new_test_20_noise = noise_img(dataset.test_data_shuffle, amount= 0.2)\n",
    "new_test_20_noise.shape"
   ]
  },
  {
   "cell_type": "code",
   "execution_count": 18,
   "id": "comfortable-opinion",
   "metadata": {},
   "outputs": [
    {
     "name": "stdout",
     "output_type": "stream",
     "text": [
      "Test with 10% noise\n",
      "accuracy:  37.631578947368425\n",
      "\n",
      "\n",
      "precision:  [28.57142857 47.36842105 35.71428571 15.38461538 50.         60.\n",
      " 66.66666667 19.51219512 38.46153846 16.66666667 76.92307692 61.53846154\n",
      " 75.         45.45454545 56.52173913 28.         43.75       12.\n",
      " 69.23076923]\n",
      "***\n",
      "precision:  44.56654789037221\n",
      "\n",
      "\n",
      "recall:  [10. 45. 25. 20. 30. 30. 20. 40. 25. 30. 50. 80. 30. 50. 65. 70. 35. 15.\n",
      " 45.]\n",
      "***\n",
      "recall:  37.631578947368425\n"
     ]
    }
   ],
   "source": [
    "# alpha 0.0001\n",
    "# 200 epoch\n",
    "print('Test with 10% noise')\n",
    "test_y_true , test_y_pred = model.test(new_test_10_noise, dataset.test_label_shuffle)\n"
   ]
  },
  {
   "cell_type": "code",
   "execution_count": 19,
   "id": "brilliant-words",
   "metadata": {},
   "outputs": [
    {
     "name": "stdout",
     "output_type": "stream",
     "text": [
      "Test with 20% noise\n",
      "accuracy:  35.78947368421053\n",
      "\n",
      "\n",
      "precision:  [33.33333333 45.45454545 46.66666667 14.81481481 30.         46.15384615\n",
      " 50.         25.58139535 37.5        17.94871795 75.         68.18181818\n",
      " 75.         56.25       52.17391304 27.11864407 30.76923077  8.69565217\n",
      " 46.66666667]\n",
      "***\n",
      "precision:  41.43732866440343\n",
      "\n",
      "\n",
      "recall:  [10. 50. 35. 20. 15. 30. 15. 55. 15. 35. 45. 75. 30. 45. 60. 80. 20. 10.\n",
      " 35.]\n",
      "***\n",
      "recall:  35.78947368421053\n"
     ]
    }
   ],
   "source": [
    "# alpha 0.0001\n",
    "# 200 epoch\n",
    "print('Test with 20% noise')\n",
    "test_y_true , test_y_pred = model.test(new_test_20_noise, dataset.test_label_shuffle)\n"
   ]
  },
  {
   "cell_type": "code",
   "execution_count": null,
   "id": "soviet-crime",
   "metadata": {},
   "outputs": [],
   "source": []
  }
 ],
 "metadata": {
  "kernelspec": {
   "display_name": "Python 3",
   "language": "python",
   "name": "python3"
  },
  "language_info": {
   "codemirror_mode": {
    "name": "ipython",
    "version": 3
   },
   "file_extension": ".py",
   "mimetype": "text/x-python",
   "name": "python",
   "nbconvert_exporter": "python",
   "pygments_lexer": "ipython3",
   "version": "3.6.4"
  }
 },
 "nbformat": 4,
 "nbformat_minor": 5
}