{
 "cells": [
  {
   "cell_type": "code",
   "execution_count": 1,
   "id": "5530f22f",
   "metadata": {},
   "outputs": [
    {
     "ename": "ModuleNotFoundError",
     "evalue": "No module named 'cv2'",
     "output_type": "error",
     "traceback": [
      "\u001b[1;31m---------------------------------------------------------------------------\u001b[0m",
      "\u001b[1;31mModuleNotFoundError\u001b[0m                       Traceback (most recent call last)",
      "\u001b[1;32m~\\AppData\\Local\\Temp/ipykernel_12436/2299982646.py\u001b[0m in \u001b[0;36m<module>\u001b[1;34m\u001b[0m\n\u001b[0;32m      1\u001b[0m \u001b[1;32mimport\u001b[0m \u001b[0mnumpy\u001b[0m \u001b[1;32mas\u001b[0m \u001b[0mnp\u001b[0m\u001b[1;33m\u001b[0m\u001b[1;33m\u001b[0m\u001b[0m\n\u001b[0;32m      2\u001b[0m \u001b[1;32mimport\u001b[0m \u001b[0mpandas\u001b[0m \u001b[1;32mas\u001b[0m \u001b[0mpd\u001b[0m\u001b[1;33m\u001b[0m\u001b[1;33m\u001b[0m\u001b[0m\n\u001b[1;32m----> 3\u001b[1;33m \u001b[1;32mimport\u001b[0m \u001b[0mcv2\u001b[0m\u001b[1;33m\u001b[0m\u001b[1;33m\u001b[0m\u001b[0m\n\u001b[0m\u001b[0;32m      4\u001b[0m \u001b[1;32mfrom\u001b[0m \u001b[0msklearn\u001b[0m\u001b[1;33m.\u001b[0m\u001b[0mmetrics\u001b[0m \u001b[1;32mimport\u001b[0m \u001b[0maccuracy_score\u001b[0m\u001b[1;33m\u001b[0m\u001b[1;33m\u001b[0m\u001b[0m\n\u001b[0;32m      5\u001b[0m \u001b[1;32mimport\u001b[0m \u001b[0mos\u001b[0m\u001b[1;33m\u001b[0m\u001b[1;33m\u001b[0m\u001b[0m\n",
      "\u001b[1;31mModuleNotFoundError\u001b[0m: No module named 'cv2'"
     ]
    }
   ],
   "source": [
    "import numpy as np\n",
    "import pandas as pd\n",
    "import cv2\n",
    "from sklearn.metrics import accuracy_score\n",
    "import os\n",
    "import random\n",
    "import matplotlib.pyplot as plt"
   ]
  },
  {
   "cell_type": "code",
   "execution_count": null,
   "id": "33ca1e74",
   "metadata": {},
   "outputs": [],
   "source": [
    "samples_train = []\n",
    "label_train = []\n",
    "samples_test = []\n",
    "label_test = []\n",
    "img_trainsamples = []\n",
    "dim = (100, 100)\n",
    "\n",
    "i = 0\n",
    "for filename in os.listdir(f'Dataset/'):\n",
    "    cnt = 1\n",
    "    for image in os.listdir(os.path.join(f'Dataset/',filename)):\n",
    "        img = cv2.imread(os.path.join(f'Dataset/',filename,image))\n",
    "        resized = cv2.resize(img, dim, interpolation = cv2.INTER_AREA)\n",
    "        gray_img = cv2.cvtColor(resized, cv2.COLOR_RGB2GRAY)\n",
    "#         plt.imshow(gray_img, cmap='gray')\n",
    "        gray_img_re = gray_img.reshape(-1)\n",
    "        if cnt <= 80:\n",
    "            img_trainsamples.append(gray_img)\n",
    "            samples_train.append(gray_img_re)\n",
    "            label_train.append(i)\n",
    "        else:\n",
    "            samples_test.append(gray_img_re)\n",
    "            label_test.append(i)\n",
    "        cnt += 1\n",
    "    i = i + 1\n",
    "\n",
    "x_train = np.array(samples_train) / 255\n",
    "y_train = np.array(label_train).reshape(-1, 1)   \n",
    "\n",
    "x_test = np.array(samples_test) / 255\n",
    "y_test = np.array(label_test).reshape(-1, 1)"
   ]
  },
  {
   "cell_type": "code",
   "execution_count": null,
   "id": "361449d0",
   "metadata": {},
   "outputs": [],
   "source": [
    "T_train = np.zeros((max(y_train.shape), 19))\n",
    "for i in range(19):\n",
    "    T_train[y_train.reshape(max(y_train.shape)) == i, i] = 1\n",
    "\n",
    "T_test = np.zeros((max(y_test.shape), 19))\n",
    "for i in range(19):\n",
    "    T_test[y_test.reshape(max(y_test.shape)) == i, i] = 1"
   ]
  },
  {
   "cell_type": "code",
   "execution_count": null,
   "id": "786ce6c4",
   "metadata": {},
   "outputs": [],
   "source": [
    "# Shuffle\n",
    "randomize = np.arange(len(x_train))\n",
    "np.random.shuffle(randomize)\n",
    "x_train = x_train[randomize]\n",
    "T_train = T_train[randomize]"
   ]
  },
  {
   "cell_type": "code",
   "execution_count": null,
   "id": "0ee9bba3",
   "metadata": {},
   "outputs": [],
   "source": [
    "def binary_sigmoid(y_in):\n",
    "    output = 1 / (1 + np.exp(-y_in))\n",
    "    return output"
   ]
  },
  {
   "cell_type": "code",
   "execution_count": 2,
   "id": "80446da5",
   "metadata": {},
   "outputs": [],
   "source": [
    "def label_predict(y_out):\n",
    "    Y = np.zeros((max(y_out.shape), 19))\n",
    "    index = np.argmax(y_out, axis=1)\n",
    "    for i in range(len(y_out)):\n",
    "        Y[i, index[i]] = 1\n",
    "    return Y"
   ]
  },
  {
   "cell_type": "code",
   "execution_count": 3,
   "id": "18501f65",
   "metadata": {},
   "outputs": [
    {
     "ename": "NameError",
     "evalue": "name 'x_train' is not defined",
     "output_type": "error",
     "traceback": [
      "\u001b[1;31m---------------------------------------------------------------------------\u001b[0m",
      "\u001b[1;31mNameError\u001b[0m                                 Traceback (most recent call last)",
      "\u001b[1;32m~\\AppData\\Local\\Temp/ipykernel_12436/2523150178.py\u001b[0m in \u001b[0;36m<module>\u001b[1;34m\u001b[0m\n\u001b[0;32m      4\u001b[0m \u001b[0mb\u001b[0m \u001b[1;33m=\u001b[0m \u001b[0mnp\u001b[0m\u001b[1;33m.\u001b[0m\u001b[0mzeros\u001b[0m\u001b[1;33m(\u001b[0m\u001b[1;33m(\u001b[0m\u001b[1;36m19\u001b[0m\u001b[1;33m)\u001b[0m\u001b[1;33m)\u001b[0m\u001b[1;33m\u001b[0m\u001b[1;33m\u001b[0m\u001b[0m\n\u001b[0;32m      5\u001b[0m \u001b[0malpha\u001b[0m \u001b[1;33m=\u001b[0m \u001b[1;36m0.0001\u001b[0m\u001b[1;33m\u001b[0m\u001b[1;33m\u001b[0m\u001b[0m\n\u001b[1;32m----> 6\u001b[1;33m \u001b[0mlen_pattern\u001b[0m \u001b[1;33m=\u001b[0m \u001b[0mlen\u001b[0m\u001b[1;33m(\u001b[0m\u001b[0mx_train\u001b[0m\u001b[1;33m)\u001b[0m\u001b[1;33m\u001b[0m\u001b[1;33m\u001b[0m\u001b[0m\n\u001b[0m",
      "\u001b[1;31mNameError\u001b[0m: name 'x_train' is not defined"
     ]
    }
   ],
   "source": [
    "# weight = np.random.uniform(low=-0.000001, high=0.000001, size=(10000, 19))\n",
    "weight = np.zeros((10000, 19))\n",
    "# b = np.random.uniform( size=(19))\n",
    "b = np.zeros((19))\n",
    "alpha = 0.0001\n",
    "len_pattern = len(x_train)"
   ]
  },
  {
   "cell_type": "code",
   "execution_count": 8,
   "id": "ce9cf6ca",
   "metadata": {},
   "outputs": [],
   "source": [
    "# alpha = 0.001"
   ]
  },
  {
   "cell_type": "code",
   "execution_count": 9,
   "id": "f1ede742",
   "metadata": {},
   "outputs": [
    {
     "name": "stdout",
     "output_type": "stream",
     "text": [
      "(1520, 10000)\n",
      "(10000, 19)\n",
      "(380, 10000)\n"
     ]
    }
   ],
   "source": [
    "print(x_train.shape)\n",
    "print(weight.shape)\n",
    "print(x_test.shape)"
   ]
  },
  {
   "cell_type": "code",
   "execution_count": 10,
   "id": "a537010b",
   "metadata": {
    "collapsed": true
   },
   "outputs": [
    {
     "name": "stdout",
     "output_type": "stream",
     "text": [
      "Epoch: 1 Accuracy: 6.513157894736842\n",
      "Epoch: 2 Accuracy: 9.276315789473683\n"
     ]
    },
    {
     "ename": "KeyboardInterrupt",
     "evalue": "",
     "output_type": "error",
     "traceback": [
      "\u001b[1;31m---------------------------------------------------------------------------\u001b[0m",
      "\u001b[1;31mKeyboardInterrupt\u001b[0m                         Traceback (most recent call last)",
      "\u001b[1;32m<ipython-input-10-7cc18360e269>\u001b[0m in \u001b[0;36m<module>\u001b[1;34m\u001b[0m\n\u001b[0;32m      9\u001b[0m             \u001b[1;31m# update weight\u001b[0m\u001b[1;33m\u001b[0m\u001b[1;33m\u001b[0m\u001b[1;33m\u001b[0m\u001b[0m\n\u001b[0;32m     10\u001b[0m             \u001b[0mdelta_w\u001b[0m \u001b[1;33m=\u001b[0m \u001b[0malpha\u001b[0m \u001b[1;33m*\u001b[0m \u001b[1;33m(\u001b[0m\u001b[0mT_train\u001b[0m\u001b[1;33m[\u001b[0m\u001b[0mp\u001b[0m\u001b[1;33m,\u001b[0m \u001b[0mj\u001b[0m\u001b[1;33m]\u001b[0m \u001b[1;33m-\u001b[0m \u001b[0my_out\u001b[0m\u001b[1;33m)\u001b[0m\u001b[1;33m*\u001b[0m\u001b[0my_out\u001b[0m\u001b[1;33m*\u001b[0m\u001b[1;33m(\u001b[0m\u001b[1;36m1\u001b[0m\u001b[1;33m-\u001b[0m\u001b[0my_out\u001b[0m\u001b[1;33m)\u001b[0m\u001b[1;33m*\u001b[0m\u001b[0mx_train\u001b[0m\u001b[1;33m[\u001b[0m\u001b[0mp\u001b[0m\u001b[1;33m,\u001b[0m \u001b[1;33m:\u001b[0m\u001b[1;33m]\u001b[0m\u001b[1;33m\u001b[0m\u001b[1;33m\u001b[0m\u001b[0m\n\u001b[1;32m---> 11\u001b[1;33m             \u001b[0mw_new\u001b[0m \u001b[1;33m=\u001b[0m \u001b[0mweight\u001b[0m\u001b[1;33m[\u001b[0m\u001b[1;33m:\u001b[0m\u001b[1;33m,\u001b[0m \u001b[0mj\u001b[0m\u001b[1;33m]\u001b[0m \u001b[1;33m+\u001b[0m \u001b[0mdelta_w\u001b[0m\u001b[1;33m\u001b[0m\u001b[1;33m\u001b[0m\u001b[0m\n\u001b[0m\u001b[0;32m     12\u001b[0m             \u001b[0mweight\u001b[0m\u001b[1;33m[\u001b[0m\u001b[1;33m:\u001b[0m \u001b[1;33m,\u001b[0m \u001b[0mj\u001b[0m\u001b[1;33m]\u001b[0m \u001b[1;33m=\u001b[0m \u001b[0mw_new\u001b[0m\u001b[1;33m\u001b[0m\u001b[1;33m\u001b[0m\u001b[0m\n\u001b[0;32m     13\u001b[0m             \u001b[1;31m# update bias\u001b[0m\u001b[1;33m\u001b[0m\u001b[1;33m\u001b[0m\u001b[1;33m\u001b[0m\u001b[0m\n",
      "\u001b[1;31mKeyboardInterrupt\u001b[0m: "
     ]
    }
   ],
   "source": [
    "# largestchange = 100\n",
    "Y_out = np.zeros((max(T_train.shape),19))\n",
    "for epoch in range(300):\n",
    "    for p in range(len_pattern):\n",
    "        for j in range(19):\n",
    "            y_in = b[j] + np.matmul(x_train[p, :], weight[:, j])\n",
    "            y_out = binary_sigmoid(y_in)\n",
    "            Y_out[p, j] = y_out\n",
    "            # update weight\n",
    "            delta_w = alpha * (T_train[p, j] - y_out)*y_out*(1-y_out)*x_train[p, :]\n",
    "            w_new = weight[:, j] + delta_w\n",
    "            weight[: , j] = w_new\n",
    "            # update bias\n",
    "            delta_b = alpha*(T_train[p, j] - y_out)*y_out*(1-y_out)\n",
    "            b_new = b[j] + delta_b\n",
    "            b[j] = b_new\n",
    "    Y_pred = label_predict(Y_out)\n",
    "    acc = accuracy_score(Y_pred, T_train)\n",
    "    print(\"Epoch:\", epoch+1, \"Accuracy:\", acc*100)"
   ]
  },
  {
   "cell_type": "code",
   "execution_count": 24,
   "id": "42e8497b",
   "metadata": {},
   "outputs": [
    {
     "name": "stdout",
     "output_type": "stream",
     "text": [
      "Accuracy on test data: 38.421052631578945\n"
     ]
    }
   ],
   "source": [
    "# test data\n",
    "y_out_test = np.zeros((max(T_test.shape),19))\n",
    "len_x_test = len(x_test)\n",
    "for p in range(len_x_test):\n",
    "    for j in range(19):\n",
    "        y_in = b[j] + np.matmul(x_test[p, :], weight[:, j])\n",
    "        y_out_test[p, j] = binary_sigmoid(y_in)\n",
    "\n",
    "Y_pred_test = label_predict(y_out_test)\n",
    "acc_test = accuracy_score(Y_pred_test, T_test)\n",
    "print(\"Accuracy on test data:\", acc_test*100)"
   ]
  },
  {
   "cell_type": "code",
   "execution_count": 21,
   "id": "62456892",
   "metadata": {},
   "outputs": [],
   "source": [
    "def add_noise(samples, ratio):\n",
    "    row , col = samples[0].shape\n",
    "    pixels = row * col\n",
    "    num = int(pixels * ratio)\n",
    "    noisy_samples = []\n",
    "#     randomlist = random.sample(range(0, pixels), num)\n",
    "    for i in range(len(samples)):\n",
    "        img = samples[i]\n",
    "        for j in range(num):\n",
    "            # Pick a random y coordinate\n",
    "            y_coord = random.randint(0, row - 1)\n",
    "\n",
    "            # Pick a random x coordinate\n",
    "            x_coord = random.randint(0, col - 1)\n",
    "\n",
    "            if img[y_coord][x_coord] == 0:\n",
    "                img[y_coord][x_coord] = 255\n",
    "\n",
    "            elif img[y_coord][x_coord] == 255:\n",
    "                img[y_coord][x_coord] = 0\n",
    "\n",
    "            else:\n",
    "                img[y_coord][x_coord] = random.choice([0, 255])\n",
    "\n",
    "        noisy_samples.append(img)\n",
    "    return noisy_samples"
   ]
  },
  {
   "cell_type": "code",
   "execution_count": 24,
   "id": "70fe6dc6",
   "metadata": {},
   "outputs": [],
   "source": [
    "noisy_img = add_noise(img_trainsamples, 0.01)"
   ]
  },
  {
   "cell_type": "code",
   "execution_count": 26,
   "id": "96c25793",
   "metadata": {},
   "outputs": [],
   "source": [
    "noisy_samples = []\n",
    "\n",
    "for i in range(len(noisy_img)):\n",
    "    noisy_samples.append(noisy_img[i].reshape(-1))\n",
    "\n",
    "x_noisy = np.array(noisy_samples) / 255"
   ]
  },
  {
   "cell_type": "code",
   "execution_count": null,
   "id": "af32a592",
   "metadata": {},
   "outputs": [],
   "source": [
    "# noisy data\n",
    "y_out_noisy = np.zeros((max(T_train.shape),19))\n",
    "len_x_noisy = len(x_noisy)\n",
    "for p in range(len_x_noisy):\n",
    "    for j in range(19):\n",
    "        y_in = b[j] + x_noisy[p, :] @ weight[:, j]\n",
    "        y_out_noisy[p, j] = binary_sigmoid(y_in)\n",
    "\n",
    "Y_pred_noisy = label_predict(y_out_noisy)\n",
    "acc_noisy = accuracy_score(Y_pred_noisy, T_train)\n",
    "print(\"Accuracy on noisy data:\", acc_noisy*100)"
   ]
  }
 ],
 "metadata": {
  "kernelspec": {
   "display_name": "Python 3 (ipykernel)",
   "language": "python",
   "name": "python3"
  },
  "language_info": {
   "codemirror_mode": {
    "name": "ipython",
    "version": 3
   },
   "file_extension": ".py",
   "mimetype": "text/x-python",
   "name": "python",
   "nbconvert_exporter": "python",
   "pygments_lexer": "ipython3",
   "version": "3.7.11"
  }
 },
 "nbformat": 4,
 "nbformat_minor": 5
}
