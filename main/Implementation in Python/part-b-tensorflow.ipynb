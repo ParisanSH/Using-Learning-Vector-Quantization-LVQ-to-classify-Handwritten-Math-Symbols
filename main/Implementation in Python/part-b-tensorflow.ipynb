{
 "cells": [
  {
   "cell_type": "code",
   "execution_count": 74,
   "metadata": {},
   "outputs": [],
   "source": [
    "from sklearn.metrics import classification_report, accuracy_score, f1_score, recall_score, precision_score\n",
    "from sklearn.preprocessing import StandardScaler, MinMaxScaler\n",
    "from sklearn.cluster import KMeans\n",
    "from sklearn.model_selection import train_test_split\n",
    "from tensorflow.keras.utils import image_dataset_from_directory\n",
    "import tensorflow as tf\n",
    "import tensorflow.keras.layers as layers\n",
    "import numpy as np\n",
    "import matplotlib.pyplot as plt\n",
    "import tqdm\n",
    "from somoclu import Somoclu\n",
    "from skimage.util import random_noise\n",
    "\n",
    "\n",
    "img_height = 100\n",
    "img_width = 100\n",
    "total_sample = 1900\n",
    "rng = np.random.default_rng(1)\n"
   ]
  },
  {
   "cell_type": "code",
   "execution_count": 27,
   "metadata": {},
   "outputs": [],
   "source": [
    "class LVQ:\n",
    "    \"\"\"\n",
    "    Learning Vector Quantization\n",
    "    \"\"\"\n",
    "\n",
    "    def __init__(self, weights: np.ndarray, lr=1e-3, epochs=100, random_state=1):\n",
    "        self.lr = lr\n",
    "        self.epochs = epochs\n",
    "        self.rng = np.random.default_rng(random_state)\n",
    "        self.weights_ = weights\n",
    "\n",
    "    def fit(self, X: np.ndarray, y: np.ndarray):\n",
    "        assert X.shape[1] == self.weights_.shape[1], \"X.shape[1] != self.weights_.shape[1]\"\n",
    "\n",
    "        for i in tqdm.trange(self.epochs):\n",
    "            self.rng.shuffle(X)\n",
    "            for sample, label in zip(X, y):\n",
    "                winner = np.argmin(np.linalg.norm(\n",
    "                    self.weights_ - sample, axis=1))\n",
    "                sign = 1 if winner == label else -1\n",
    "                self.weights_[winner] += sign*self.lr * \\\n",
    "                    (sample - self.weights_[winner])\n",
    "            self.lr = self.lr * 1/np.sqrt(i+1)\n",
    "        return self\n",
    "\n",
    "    def predict(self, X: np.ndarray):\n",
    "        y_pred = np.zeros(X.shape[0], dtype=np.int32)\n",
    "        for i, sample in enumerate(X):\n",
    "            y_pred[i] = np.argmin(np.linalg.norm(\n",
    "                self.weights_ - sample, axis=1))\n",
    "        return y_pred\n",
    "\n",
    "\n"
   ]
  },
  {
   "cell_type": "code",
   "execution_count": 28,
   "metadata": {},
   "outputs": [],
   "source": [
    "def sort_codebook(som: Somoclu, kmeans: KMeans, X: np.ndarray, y: np.ndarray) -> np.ndarray:\n",
    "    \"\"\"\n",
    "    Sort codebook by label\n",
    "    \"\"\"\n",
    "    custom_c = np.zeros_like(kmeans.cluster_centers_)\n",
    "    for i in range(num_classes):\n",
    "        X_ = X[y == i].astype(np.float32)\n",
    "        # y_ = y[y == i]\n",
    "        idx, count = np.unique(kmeans.predict(X_), return_index=True)\n",
    "        c = idx[np.argmax(count)]\n",
    "        custom_c[i] = kmeans.cluster_centers_[c]\n",
    "    return custom_c\n"
   ]
  },
  {
   "cell_type": "code",
   "execution_count": 29,
   "metadata": {},
   "outputs": [
    {
     "name": "stdout",
     "output_type": "stream",
     "text": [
      "Found 1900 files belonging to 19 classes.\n"
     ]
    }
   ],
   "source": [
    "data = image_dataset_from_directory(\n",
    "    directory='Dataset/',\n",
    "    interpolation='nearest',\n",
    "    batch_size=1,\n",
    "    shuffle=False,\n",
    "    image_size=(img_height, img_width),\n",
    "    color_mode='grayscale',\n",
    "    follow_links=False,\n",
    ")\n",
    "\n",
    "\n",
    "class_names = data.class_names\n",
    "num_classes = len(class_names)\n"
   ]
  },
  {
   "cell_type": "code",
   "execution_count": 30,
   "metadata": {},
   "outputs": [],
   "source": [
    "X = np.zeros((total_sample, img_height*img_width))\n",
    "y = np.zeros(total_sample, dtype=np.int32)\n",
    "for i, (img, label) in enumerate(data):\n",
    "    X[i] = img.numpy().flatten()\n",
    "    y[i] = label.numpy()\n",
    "\n",
    "X = 255 - X\n",
    "X = X*(1.0/255.0)"
   ]
  },
  {
   "cell_type": "code",
   "execution_count": 31,
   "metadata": {},
   "outputs": [],
   "source": [
    "X_train, X_test, y_train, y_test = train_test_split(\n",
    "    X, y, test_size=0.2, random_state=1)"
   ]
  },
  {
   "cell_type": "code",
   "execution_count": 43,
   "metadata": {},
   "outputs": [
    {
     "name": "stdout",
     "output_type": "stream",
     "text": [
      "Warning: data was not float32. A 32-bit copy was made\n"
     ]
    }
   ],
   "source": [
    "width, height, step = 20, 20, 1\n",
    "som = Somoclu(width, height, gridtype='rectangular', std_coeff=0.1, verbose=0)\n",
    "som.train(X_train, epochs=10)\n",
    "# codebook = som._weights.reshape(som._weights.shape[1], -1).copy()\n",
    "\n",
    "# fig = plt.figure(figsize=(20, 20))\n",
    "# for i in range(0, width, step):\n",
    "#     for j in range(0, height, step):\n",
    "#         ax = fig.add_subplot(width, height, i*height+j+1)\n",
    "#         ax.imshow(som._weights[i, j].reshape(\n",
    "#             img_height, img_width), cmap='gray')\n",
    "#         ax.axis('off')\n"
   ]
  },
  {
   "cell_type": "code",
   "execution_count": 44,
   "metadata": {},
   "outputs": [],
   "source": [
    "kmeans = KMeans(n_clusters=num_classes)\n",
    "som.cluster(algorithm=kmeans)"
   ]
  },
  {
   "cell_type": "code",
   "execution_count": 45,
   "metadata": {},
   "outputs": [
    {
     "data": {
      "text/plain": [
       "array([[17, 18, 18, 18, 14, 14, 11,  4,  4,  4, 11,  2, 11, 11, 11,  4,\n",
       "        11, 11,  6,  2],\n",
       "       [18, 18, 18, 18,  4,  4,  4,  4,  4, 14, 11,  2,  2, 11,  3,  4,\n",
       "         4,  4,  2,  2],\n",
       "       [15, 18, 18,  4,  3,  3, 11,  2,  1,  1,  2,  2,  4,  4,  4,  4,\n",
       "         4,  4, 18, 18],\n",
       "       [ 3, 11, 18, 18,  3,  3,  2, 11, 11,  1,  4,  2, 11, 11, 11, 14,\n",
       "        15, 18, 18, 18],\n",
       "       [12,  3,  2,  2,  3,  3,  3,  5, 17, 17, 18,  6, 11, 11, 14, 14,\n",
       "        11, 15, 15, 18],\n",
       "       [15, 18, 18, 18, 18,  3,  5,  5,  9, 17, 18, 11, 11, 11,  4,  4,\n",
       "         3,  5, 17,  4],\n",
       "       [11, 18, 18,  4, 18,  4,  3,  5,  5, 10, 11, 11,  4, 14,  4,  4,\n",
       "         4,  4,  4,  4],\n",
       "       [ 4,  4,  4,  4,  4,  3, 15,  6, 11, 11,  1, 11,  1,  4, 15,  4,\n",
       "         3,  4,  4,  4],\n",
       "       [ 4,  4,  4,  4, 18, 15, 15,  6, 11, 11, 16,  8,  8,  3,  3,  3,\n",
       "         3,  4, 11, 11],\n",
       "       [14,  4,  4, 18, 18, 15, 15, 11, 14, 14, 14, 11, 15, 15,  3, 15,\n",
       "         1, 11, 11, 11],\n",
       "       [ 4,  4, 11, 18, 11, 15,  5, 14, 14, 14, 15, 11, 11, 15, 15, 15,\n",
       "        15, 11, 11, 11],\n",
       "       [ 3,  3, 18, 11, 18,  2, 15,  4,  7,  4,  4, 14, 14, 14, 14, 11,\n",
       "        11, 15, 14, 11],\n",
       "       [17,  6, 17, 11, 15,  2,  2, 14,  4,  4, 18, 14, 14, 14, 14, 14,\n",
       "        11, 11,  5,  5],\n",
       "       [17, 17,  6, 11, 15,  2,  1,  1, 15, 18, 18, 11, 11, 14, 14, 11,\n",
       "         6,  2,  6,  5],\n",
       "       [ 3,  4, 12,  4, 14, 15, 15,  1, 18,  1,  1,  1,  8,  2,  2, 11,\n",
       "         6,  2,  0, 15],\n",
       "       [ 3,  4, 14,  4,  6, 11, 15,  4, 11, 15,  1,  1,  1,  2, 13,  1,\n",
       "         6,  2,  2,  2],\n",
       "       [ 4,  4,  4,  4,  2, 11,  4, 18,  1,  1,  1,  1,  1, 11, 12,  3,\n",
       "         6,  6,  2,  2],\n",
       "       [ 4,  4,  4,  4,  4, 11, 18,  1,  1,  6,  6,  6, 15, 15, 14, 14,\n",
       "        15,  6,  2, 14],\n",
       "       [ 4,  4,  4,  4, 11, 11, 11, 18, 17,  6,  6,  6,  1,  1, 12,  1,\n",
       "        15,  6, 11, 14],\n",
       "       [ 4,  4, 14, 14, 11, 11, 11, 15,  6, 17, 18,  1,  1, 12, 14,  4,\n",
       "        15,  6,  6, 12]])"
      ]
     },
     "execution_count": 45,
     "metadata": {},
     "output_type": "execute_result"
    }
   ],
   "source": [
    "som.clusters"
   ]
  },
  {
   "cell_type": "code",
   "execution_count": 46,
   "metadata": {},
   "outputs": [
    {
     "data": {
      "text/plain": [
       "array([[ 0.0000000e+00,  0.0000000e+00,  0.0000000e+00, ...,\n",
       "         0.0000000e+00,  0.0000000e+00,  0.0000000e+00],\n",
       "       [ 3.1512616e-05,  6.3980151e-05,  2.6737973e-05, ...,\n",
       "         7.3211268e-05,  4.0739775e-05,  5.3474680e-05],\n",
       "       [ 9.0949470e-13, -1.8189894e-12,  7.2759576e-12, ...,\n",
       "         3.0920226e-03,  3.0920208e-03,  3.0920235e-03],\n",
       "       ...,\n",
       "       [ 0.0000000e+00,  0.0000000e+00,  0.0000000e+00, ...,\n",
       "         0.0000000e+00,  0.0000000e+00,  0.0000000e+00],\n",
       "       [-9.0949470e-13, -1.8189894e-12, -7.2759576e-12, ...,\n",
       "         8.8770062e-02,  8.8770047e-02,  8.8770069e-02],\n",
       "       [ 3.6379788e-12,  0.0000000e+00,  3.9215692e-04, ...,\n",
       "         6.3480390e-03,  6.2499959e-03,  6.4460784e-03]], dtype=float32)"
      ]
     },
     "execution_count": 46,
     "metadata": {},
     "output_type": "execute_result"
    }
   ],
   "source": [
    "kmeans.cluster_centers_"
   ]
  },
  {
   "cell_type": "code",
   "execution_count": 47,
   "metadata": {},
   "outputs": [
    {
     "data": {
      "image/png": "[encoded data removed]",
      "text/plain": [
       "<Figure size 1440x1440 with 19 Axes>"
      ]
     },
     "metadata": {
      "needs_background": "light"
     },
     "output_type": "display_data"
    }
   ],
   "source": [
    "codebook = sort_codebook(som, kmeans, X, y)\n",
    "fig = plt.figure(figsize=(20, 20))\n",
    "for i in range(1):\n",
    "    for j in range(19):\n",
    "        ax = fig.add_subplot(10, 19, i*1+j+1)\n",
    "        ax.imshow(codebook[i*19+j].reshape(\n",
    "            img_height, img_width), cmap='gray')\n",
    "        ax.axis('off')"
   ]
  },
  {
   "cell_type": "code",
   "execution_count": 48,
   "metadata": {},
   "outputs": [
    {
     "name": "stderr",
     "output_type": "stream",
     "text": [
      "100%|██████████| 100/100 [00:51<00:00,  1.95it/s]\n"
     ]
    },
    {
     "data": {
      "text/plain": [
       "<__main__.LVQ at 0x7fa790458eb0>"
      ]
     },
     "execution_count": 48,
     "metadata": {},
     "output_type": "execute_result"
    }
   ],
   "source": [
    "rng = np.random.default_rng(1)\n",
    "# random_codebook = rng.random((19, img_height*img_width), dtype=np.float32)\n",
    "lvq = LVQ(codebook, lr=0.01, epochs=100, random_state=1)\n",
    "lvq.fit(X_train.copy(), y_train)\n"
   ]
  },
  {
   "cell_type": "code",
   "execution_count": 78,
   "metadata": {},
   "outputs": [
    {
     "name": "stdout",
     "output_type": "stream",
     "text": [
      "classification report (train):\n",
      "f1: 0.4341891945421683\n",
      "recall: 0.4346824489577495\n",
      "precision: 0.43410287458396113\n",
      "accuracy: 0.4342105263157895\n"
     ]
    }
   ],
   "source": [
    "y_pred = lvq.predict(X_train)\n",
    "\n",
    "print(\"classification report (train):\")\n",
    "print(\"f1:\",f1_score(y_train, y_pred, average='macro'))\n",
    "print(\"recall:\", recall_score(y_train, y_pred, average='macro'))\n",
    "print(\"precision:\",precision_score(y_train, y_pred, average='macro'))\n",
    "print(\"accuracy:\", accuracy_score(y_train, y_pred))"
   ]
  },
  {
   "cell_type": "code",
   "execution_count": 50,
   "metadata": {},
   "outputs": [
    {
     "data": {
      "image/png": "[encoded data removed]",
      "text/plain": [
       "<Figure size 1080x1080 with 19 Axes>"
      ]
     },
     "metadata": {
      "needs_background": "light"
     },
     "output_type": "display_data"
    }
   ],
   "source": [
    "fig = plt.figure(figsize=(15, 15))\n",
    "for i in range(1):\n",
    "    for j in range(19):\n",
    "        ax = fig.add_subplot(1, 19, i*19+j+1)\n",
    "        ax.imshow(lvq.weights_[j].reshape(img_height, img_width), cmap='gray')\n",
    "        ax.axis('off')"
   ]
  },
  {
   "cell_type": "code",
   "execution_count": 83,
   "metadata": {},
   "outputs": [
    {
     "name": "stdout",
     "output_type": "stream",
     "text": [
      "classification report (test):\n",
      "f1: 0.3850365377140528\n",
      "recall: 0.3933606473731941\n",
      "precision: 0.3916465363777596\n",
      "accuracy: 0.39473684210526316\n"
     ]
    }
   ],
   "source": [
    "y_pred = lvq.predict(X_test)\n",
    "print(\"classification report (test):\")\n",
    "print(\"f1:\",f1_score(y_test, y_pred, average='macro'))\n",
    "print(\"recall:\", recall_score(y_test, y_pred, average='macro'))\n",
    "print(\"precision:\",precision_score(y_test, y_pred, average='macro'))\n",
    "print(\"accuracy:\", accuracy_score(y_test, y_pred))"
   ]
  },
  {
   "cell_type": "markdown",
   "metadata": {},
   "source": [
    "## add noise"
   ]
  },
  {
   "cell_type": "code",
   "execution_count": 64,
   "metadata": {},
   "outputs": [],
   "source": [
    "noisy_ds_10 = np.zeros_like(X_train)\n",
    "i = 0\n",
    "for img, y in zip(X_train, y_train):\n",
    "    noisy_ds_10[i] = random_noise(\n",
    "        img, mode='s&p', amount=0.1)\n",
    "    i += 1\n",
    "\n",
    "noisy_ds_20 = np.zeros_like(X_train)\n",
    "i = 0\n",
    "for img in X_train:\n",
    "    noisy_ds_20[i] = random_noise(\n",
    "        img, mode='s&p', amount=0.2)\n",
    "    i += 1\n"
   ]
  },
  {
   "cell_type": "code",
   "execution_count": 91,
   "metadata": {},
   "outputs": [
    {
     "name": "stdout",
     "output_type": "stream",
     "text": [
      "Classification report for 10% noisy dataset:\n",
      "f1: 0.34742199283658814\n",
      "recall: 0.3533523178367284\n",
      "precision: 0.4001133661839263\n",
      "accuracy: 0.3555605263157895\n"
     ]
    }
   ],
   "source": [
    "y_pred = np.array(lvq.predict(noisy_ds_10))\n",
    "print(\"Classification report for 10% noisy dataset:\")\n",
    "print(\"f1:\",f1_score(y_train, y_pred, average='macro'))\n",
    "print(\"recall:\", recall_score(y_train, y_pred, average='macro'))\n",
    "print(\"precision:\",precision_score(y_train, y_pred, average='macro'))\n",
    "print(\"accuracy:\", accuracy_score(y_train, y_pred))\n"
   ]
  },
  {
   "cell_type": "code",
   "execution_count": 90,
   "metadata": {},
   "outputs": [
    {
     "name": "stdout",
     "output_type": "stream",
     "text": [
      "Classification report for 20% noisy dataset:\n",
      "f1: 0.23975742462405927\n",
      "recall: 0.2484752208706892\n",
      "precision: 0.36584987126253743\n",
      "accuracy: 0.2502973684210526\n"
     ]
    }
   ],
   "source": [
    "y_pred = np.array(lvq.predict(noisy_ds_20))\n",
    "print(\"Classification report for 20% noisy dataset:\")\n",
    "print(\"f1:\",f1_score(y_train, y_pred, average='macro'))\n",
    "print(\"recall:\", recall_score(y_train, y_pred, average='macro'))\n",
    "print(\"precision:\",precision_score(y_train, y_pred, average='macro'))\n",
    "print(\"accuracy:\", accuracy_score(y_train, y_pred))\n"
   ]
  }
 ],
 "metadata": {
  "interpreter": {
   "hash": "7062dfcb2c3a4bd4d1a6044ef57078dded736b05b2e52be5090a6855a8563dd1"
  },
  "kernelspec": {
   "display_name": "Python 3.9.7 ('AI')",
   "language": "python",
   "name": "python3"
  },
  "language_info": {
   "codemirror_mode": {
    "name": "ipython",
    "version": 3
   },
   "file_extension": ".py",
   "mimetype": "text/x-python",
   "name": "python",
   "nbconvert_exporter": "python",
   "pygments_lexer": "ipython3",
   "version": "3.9.7"
  },
  "orig_nbformat": 4
 },
 "nbformat": 4,
 "nbformat_minor": 2
}
